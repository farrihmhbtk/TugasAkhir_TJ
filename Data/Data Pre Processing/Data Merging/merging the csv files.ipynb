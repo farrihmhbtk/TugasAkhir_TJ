{
 "cells": [
  {
   "cell_type": "code",
   "execution_count": 1,
   "metadata": {},
   "outputs": [
    {
     "name": "stdout",
     "output_type": "stream",
     "text": [
      "CSV files merged successfully!\n"
     ]
    }
   ],
   "source": [
    "import os\n",
    "import pandas as pd\n",
    "\n",
    "# Define the directory path\n",
    "directory = \"../../Production/twitterapi IO/Proof of Concept\"\n",
    "\n",
    "# Get a list of all CSV files in the directory\n",
    "csv_files = [f for f in os.listdir(directory) if f.endswith('.csv')]\n",
    "csv_files.sort()  # Optional: sorts the files if order matters\n",
    "\n",
    "# Read the first file to get the header\n",
    "first_file_path = os.path.join(directory, csv_files[0])\n",
    "merged_df = pd.read_csv(first_file_path)\n",
    "header = merged_df.columns  # Save the header from the first file\n",
    "\n",
    "# Loop through the rest of the files and append data using the same header\n",
    "for file in csv_files[1:]:\n",
    "    file_path = os.path.join(directory, file)\n",
    "    # Read the CSV without header and skip the first row (header row)\n",
    "    df = pd.read_csv(file_path, header=None, skiprows=1)\n",
    "    df.columns = header  # Assign the header from the first file\n",
    "    merged_df = pd.concat([merged_df, df], ignore_index=True)\n",
    "\n",
    "# Save the merged DataFrame to a new CSV file\n",
    "merged_df.to_csv(\"../../Production/twitterapi IO/Proof of Concept/POC_Merged.csv\", index=False)\n",
    "\n",
    "print(\"CSV files merged successfully!\")\n"
   ]
  },
  {
   "cell_type": "code",
   "execution_count": 3,
   "metadata": {},
   "outputs": [
    {
     "data": {
      "text/plain": [
       "'../../Production/twitterapi IO/Proof of Concept/POC_Merged_deduplicated.csv'"
      ]
     },
     "execution_count": 3,
     "metadata": {},
     "output_type": "execute_result"
    }
   ],
   "source": [
    "# DROP DUPLICATES\n",
    "\n",
    "import pandas as pd\n",
    "import os\n",
    "\n",
    "# Load the CSV file\n",
    "input_path = \"../../Production/twitterapi IO/Proof of Concept/POC_Merged.csv\"\n",
    "df = pd.read_csv(input_path)\n",
    "\n",
    "# Drop duplicate rows based on the 'full_text' column\n",
    "df_unique = df.drop_duplicates(subset='text', keep='first')\n",
    "\n",
    "# Save to a new CSV file\n",
    "output_path = \"../../Production/twitterapi IO/Proof of Concept/POC_Merged_deduplicated.csv\"\n",
    "df_unique.to_csv(output_path, index=False)\n",
    "\n",
    "output_path"
   ]
  }
 ],
 "metadata": {
  "kernelspec": {
   "display_name": "venv",
   "language": "python",
   "name": "python3"
  },
  "language_info": {
   "codemirror_mode": {
    "name": "ipython",
    "version": 3
   },
   "file_extension": ".py",
   "mimetype": "text/x-python",
   "name": "python",
   "nbconvert_exporter": "python",
   "pygments_lexer": "ipython3",
   "version": "3.12.6"
  }
 },
 "nbformat": 4,
 "nbformat_minor": 2
}
