{
 "cells": [
  {
   "cell_type": "code",
   "execution_count": 1,
   "id": "0a02df8f",
   "metadata": {},
   "outputs": [
    {
     "name": "stdout",
     "output_type": "stream",
     "text": [
      "|    | Tweet | Triplet | Positif | Netral | Negatif |\n",
      "|---|---|---|---|---|---|\n",
      "| Train | 1764 | 2549 | 742 | 724 | 1083 |\n",
      "| Dev | 379 | 568 | 161 | 157 | 250 |\n",
      "| Test | 379 | 559 | 155 | 154 | 250 |\n",
      "| Total | 2522 | 3676 | 1058 | 1035 | 1583 |\n"
     ]
    }
   ],
   "source": [
    "import ast\n",
    "from collections import defaultdict\n",
    "\n",
    "def count_triplets(file_path):\n",
    "    \"\"\"Count the number of tweets and triplets in a file\"\"\"\n",
    "    tweet_count = 0\n",
    "    triplet_counts = {'POS': 0, 'NEU': 0, 'NEG': 0}\n",
    "    \n",
    "    with open(file_path, 'r', encoding='utf-8') as f:\n",
    "        for line in f:\n",
    "            if not line.strip():\n",
    "                continue\n",
    "                \n",
    "            tweet_count += 1\n",
    "            parts = line.split('#### #### ####')\n",
    "            if len(parts) > 1:\n",
    "                triplets_str = parts[1].strip()\n",
    "                try:\n",
    "                    triplets = ast.literal_eval(triplets_str) if triplets_str != '[]' else []\n",
    "                    if triplets:  # Handle both single and multiple triplets\n",
    "                        if isinstance(triplets[0], (list, tuple)):  # Multiple triplets\n",
    "                            for triplet in triplets:\n",
    "                                polarity = triplet[2]\n",
    "                                triplet_counts[polarity] += 1\n",
    "                        else:  # Single triplet\n",
    "                            polarity = triplets[2]\n",
    "                            triplet_counts[polarity] += 1\n",
    "                except:\n",
    "                    continue\n",
    "                    \n",
    "    total_triplets = sum(triplet_counts.values())\n",
    "    return tweet_count, total_triplets, triplet_counts\n",
    "\n",
    "# Paths to your files\n",
    "train_file = 'train.txt'\n",
    "dev_file = 'dev.txt'\n",
    "test_file = 'test.txt'\n",
    "\n",
    "# Count triplets in each file\n",
    "train_tweets, train_total, train_polarities = count_triplets(train_file)\n",
    "dev_tweets, dev_total, dev_polarities = count_triplets(dev_file)\n",
    "test_tweets, test_total, test_polarities = count_triplets(test_file)\n",
    "\n",
    "# Calculate totals\n",
    "total_tweets = train_tweets + dev_tweets + test_tweets\n",
    "total_triplets = train_total + dev_total + test_total\n",
    "total_pos = train_polarities['POS'] + dev_polarities['POS'] + test_polarities['POS']\n",
    "total_neu = train_polarities['NEU'] + dev_polarities['NEU'] + test_polarities['NEU']\n",
    "total_neg = train_polarities['NEG'] + dev_polarities['NEG'] + test_polarities['NEG']\n",
    "\n",
    "# Prepare table data\n",
    "table_data = [\n",
    "    [\"Train\", train_tweets, train_total, train_polarities['POS'], train_polarities['NEU'], train_polarities['NEG']],\n",
    "    [\"Dev\", dev_tweets, dev_total, dev_polarities['POS'], dev_polarities['NEU'], dev_polarities['NEG']],\n",
    "    [\"Test\", test_tweets, test_total, test_polarities['POS'], test_polarities['NEU'], test_polarities['NEG']],\n",
    "    [\"Total\", total_tweets, total_triplets, total_pos, total_neu, total_neg]\n",
    "]\n",
    "\n",
    "# Print the table in markdown format\n",
    "print(\"|    | Tweet | Triplet | Positif | Netral | Negatif |\")\n",
    "print(\"|---|---|---|---|---|---|\")\n",
    "for row in table_data:\n",
    "    print(f\"| {row[0]} | {row[1]} | {row[2]} | {row[3]} | {row[4]} | {row[5]} |\")\n",
    "\n",
    "# For LaTeX table format (uncomment if needed)\n",
    "# print(\"\\nLaTeX format:\")\n",
    "# print(\"\\\\begin{tabular}{|l|r|r|r|r|r|}\")\n",
    "# print(\"\\\\hline\")\n",
    "# print(\" & Tweet & Triplet & Positif & Netral & Negatif \\\\\\\\\")\n",
    "# print(\"\\\\hline\")\n",
    "# for row in table_data:\n",
    "#     print(f\"{row[0]} & {row[1]} & {row[2]} & {row[3]} & {row[4]} & {row[5]} \\\\\\\\\")\n",
    "# print(\"\\\\hline\")\n",
    "# print(\"\\\\end{tabular}\")"
   ]
  },
  {
   "cell_type": "code",
   "execution_count": null,
   "id": "158deede",
   "metadata": {},
   "outputs": [],
   "source": []
  }
 ],
 "metadata": {
  "kernelspec": {
   "display_name": ".venv",
   "language": "python",
   "name": "python3"
  },
  "language_info": {
   "codemirror_mode": {
    "name": "ipython",
    "version": 3
   },
   "file_extension": ".py",
   "mimetype": "text/x-python",
   "name": "python",
   "nbconvert_exporter": "python",
   "pygments_lexer": "ipython3",
   "version": "3.7.9"
  }
 },
 "nbformat": 4,
 "nbformat_minor": 5
}
