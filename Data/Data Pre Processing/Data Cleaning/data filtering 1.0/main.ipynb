{
 "cells": [
  {
   "cell_type": "markdown",
   "id": "c6f7058a",
   "metadata": {},
   "source": [
    "## code for filtering the relevant tweets based on the keywords"
   ]
  },
  {
   "cell_type": "code",
   "execution_count": null,
   "id": "ba09e657",
   "metadata": {},
   "outputs": [
    {
     "name": "stdout",
     "output_type": "stream",
     "text": [
      "Filtering complete. 8124 tweets saved to filtered_tweets.csv.\n"
     ]
    }
   ],
   "source": [
    "import csv\n",
    "import re\n",
    "\n",
    "# Define the list of keywords\n",
    "keywords = [\n",
    "    \"tap in\", \"tap out\", \"saldo\", \"halte\", \"rute\", \"jalur\", \"jadwal\", \"tarif\",\n",
    "    \"macet\", \"antri\", \"antrian\", \"penuh\", \"operasional\", \"bersih\", \"kotor\", \"nyaman\",\n",
    "    \"tidak nyaman\", \"AC\", \"panas\", \"dingin\", \"adem\", \"driver\", \"sopir\", \"supir\", \"kursi\",\n",
    "    \"naik\", \"turun\", \"terlambat\", \"keterlambatan\", \"lambat\", \"telat\", \"lama\", \"cepat\",\n",
    "    \"cepet\", \"berangkat\", \"tiba\", \"sampai\", \"sampe\", \"harga\", \"murah\", \"mahal\", \"perjalanan\",\n",
    "    \"padat\", \"biaya\", \"sistem\", \"layanan\", \"komplain\", \"penumpang\", \"keluhan\", \"masalah\",\n",
    "    \"pelayanan\", \"batal\", \"informasi\", \"info\", \"aplikasi\", \"error\", \"track\", \"tracking\",\n",
    "    \"copet\", \"kehilangan\", \"pegel\", \"nunggu\", \"menunggu\", \"pendingin udara\", \"sepi\", \"ramai\",\n",
    "    \"rame\", \"cape\", \"capek\", \"kepotong\", \"tunggu\", \"kacau\", \"aplikasi\", \"apk\", \"hilang\",\n",
    "    \"jam\", \"ngebut\", \"live tracking\", \"live\", \"tracking\", \"kebersihan\", \"kendala\",\n",
    "    \"armada\", \"rusak\", \"kartu\", \"perbaikan\", \"perbaiki\", \"gangguan\", \"eror\", \"diskon\",\n",
    "    \"potongan\", \"kapasitas\", \"keberangkatan\", \"ketepatan\", \"aman\", \"tidak aman\", \"keamanan\"\n",
    "]\n",
    "\n",
    "# Remove duplicate keywords if any\n",
    "keywords = list(set(keywords))\n",
    "\n",
    "# Input and output CSV file paths\n",
    "input_csv = \"your_input_file.csv\"   # Change this to the path of your dataset file\n",
    "output_csv = \"filtered_tweets.csv\"\n",
    "\n",
    "def tweet_is_relevant(text, keywords):\n",
    "    \"\"\"\n",
    "    Check if the tweet text contains any of the keywords.\n",
    "    Comparison is done in a case-insensitive manner.\n",
    "    \"\"\"\n",
    "    text_lower = text.lower()\n",
    "    for kw in keywords:\n",
    "        if kw.lower() in text_lower:\n",
    "            return True\n",
    "    return False\n",
    "\n",
    "# Use a set to track unique tweet identifiers using the 'No' field\n",
    "seen_ids = set()\n",
    "filtered_rows = []\n",
    "\n",
    "with open(input_csv, newline='', encoding='utf-8') as infile:\n",
    "    reader = csv.DictReader(infile)\n",
    "    fieldnames = reader.fieldnames  # Use the original field names\n",
    "    \n",
    "    for row in reader:\n",
    "        tweet_text = row[\"full_text\"]\n",
    "        # Use the 'No' attribute as the unique identifier\n",
    "        tweet_id = row[\"No\"]\n",
    "        \n",
    "        if tweet_id in seen_ids:\n",
    "            continue  # Skip duplicate tweets\n",
    "\n",
    "        if tweet_is_relevant(tweet_text, keywords):\n",
    "            filtered_rows.append(row)\n",
    "            seen_ids.add(tweet_id)\n",
    "\n",
    "# Write the filtered rows to a new CSV file\n",
    "with open(output_csv, 'w', newline='', encoding='utf-8') as outfile:\n",
    "    writer = csv.DictWriter(outfile, fieldnames=fieldnames)\n",
    "    writer.writeheader()\n",
    "    writer.writerows(filtered_rows)\n",
    "\n",
    "print(f\"Filtering complete. {len(filtered_rows)} relevant tweets saved to {output_csv}.\")\n"
   ]
  },
  {
   "cell_type": "markdown",
   "id": "9a56b2e1",
   "metadata": {},
   "source": [
    "## filtering out tweets that asked question to admin TJ"
   ]
  },
  {
   "cell_type": "code",
   "execution_count": 6,
   "id": "0bd69c03",
   "metadata": {},
   "outputs": [
    {
     "name": "stdout",
     "output_type": "stream",
     "text": [
      "Filtering complete. 5295 tweets saved to free_from_question_tweets.csv.\n"
     ]
    }
   ],
   "source": [
    "import csv\n",
    "\n",
    "# Define the exclusion trigger keywords: if a tweet contains all of these,\n",
    "# then it is considered irrelevant and filtered out.\n",
    "exclusion_keywords = [\"min\", \"@pt_transjakarta\", \"?\"]\n",
    "\n",
    "def tweet_should_exclude(text, exclusion_keywords):\n",
    "    \"\"\"\n",
    "    Returns True if the text contains all of the exclusion keywords:\n",
    "    - For normal text tokens (e.g., \"min\", \"@pt_transjakarta\", \"rute\"),\n",
    "      the check is case-insensitive.\n",
    "    - For the question mark '?', we simply check for its presence.\n",
    "    \"\"\"\n",
    "    text_lower = text.lower()\n",
    "    \n",
    "    # Check each keyword: if any keyword is missing, return False.\n",
    "    for kw in exclusion_keywords:\n",
    "        if kw == \"?\":\n",
    "            if \"?\" not in text:\n",
    "                return False\n",
    "        else:\n",
    "            if kw.lower() not in text_lower:\n",
    "                return False\n",
    "    return True\n",
    "\n",
    "# Input and output CSV file paths\n",
    "input_csv = \"output_of_filtering v1.0.csv\"   # Change this to the path of your dataset file\n",
    "output_csv = \"free_from_question_tweets.csv\"\n",
    "\n",
    "# Use a set to track unique tweet identifiers based on the 'No' field\n",
    "seen_ids = set()\n",
    "filtered_rows = []\n",
    "\n",
    "with open(input_csv, newline='', encoding='utf-8') as infile:\n",
    "    reader = csv.DictReader(infile)\n",
    "    fieldnames = reader.fieldnames  # Use the original field names\n",
    "    for row in reader:\n",
    "        tweet_text = row[\"full_text\"]\n",
    "        tweet_id = row[\"No\"]  # Use 'No' as unique identifier\n",
    "\n",
    "        # Skip duplicates\n",
    "        if tweet_id in seen_ids:\n",
    "            continue\n",
    "\n",
    "        # Check the exclusion condition: if the tweet contains all trigger words, skip it.\n",
    "        if tweet_should_exclude(tweet_text, exclusion_keywords):\n",
    "            continue\n",
    "\n",
    "        # Otherwise, keep the tweet\n",
    "        filtered_rows.append(row)\n",
    "        seen_ids.add(tweet_id)\n",
    "\n",
    "# Write the filtered rows to a new CSV file\n",
    "with open(output_csv, 'w', newline='', encoding='utf-8') as outfile:\n",
    "    writer = csv.DictWriter(outfile, fieldnames=fieldnames)\n",
    "    writer.writeheader()\n",
    "    writer.writerows(filtered_rows)\n",
    "\n",
    "print(f\"Filtering complete. {len(filtered_rows)} tweets saved to {output_csv}.\")\n"
   ]
  },
  {
   "cell_type": "markdown",
   "id": "6d97638b",
   "metadata": {},
   "source": [
    "## EDA - shows the distribution of words amount"
   ]
  },
  {
   "cell_type": "code",
   "execution_count": 11,
   "id": "ccb04a74",
   "metadata": {},
   "outputs": [
    {
     "name": "stdout",
     "output_type": "stream",
     "text": [
      "Summary Statistics for Word Count:\n",
      "count    5088.000000\n",
      "mean       24.114583\n",
      "std        13.799073\n",
      "min         1.000000\n",
      "25%        13.000000\n",
      "50%        21.000000\n",
      "75%        34.000000\n",
      "max        71.000000\n",
      "Name: word_count, dtype: float64\n"
     ]
    },
    {
     "data": {
      "image/png": "[encoded data removed]",
      "text/plain": [
       "<Figure size 1000x600 with 1 Axes>"
      ]
     },
     "metadata": {},
     "output_type": "display_data"
    }
   ],
   "source": [
    "import pandas as pd\n",
    "import matplotlib.pyplot as plt\n",
    "\n",
    "# Read the CSV file. Change the file path if needed.\n",
    "df = pd.read_csv(\"free_from_question_tweets_output.csv\", encoding='utf-8')\n",
    "\n",
    "# Create a new column 'word_count' that counts the number of words in each tweet.\n",
    "# We convert the tweet text to string and split on whitespace.\n",
    "df['word_count'] = df['cleaned_full_text'].apply(lambda x: len(str(x).split()))\n",
    "\n",
    "# Display basic statistics about word counts.\n",
    "print(\"Summary Statistics for Word Count:\")\n",
    "print(df['word_count'].describe())\n",
    "\n",
    "# Plot the distribution of word counts.\n",
    "plt.figure(figsize=(10, 6))\n",
    "plt.hist(df['word_count'], bins=30, edgecolor='black', alpha=0.75)\n",
    "plt.title(\"Distribution of Word Count in Tweets\")\n",
    "plt.xlabel(\"Word Count\")\n",
    "plt.ylabel(\"Frequency\")\n",
    "plt.grid(axis='y', alpha=0.75)\n",
    "plt.tight_layout()\n",
    "plt.show()\n"
   ]
  },
  {
   "cell_type": "markdown",
   "id": "0b046511",
   "metadata": {},
   "source": [
    "## filtered out tweets that has more than 40 words"
   ]
  },
  {
   "cell_type": "code",
   "execution_count": 13,
   "id": "1ba2af53",
   "metadata": {},
   "outputs": [
    {
     "name": "stdout",
     "output_type": "stream",
     "text": [
      "Filtering complete. 4252 tweets (<= 40 words) saved to filtered_tweets_40_words_or_less.csv.\n"
     ]
    }
   ],
   "source": [
    "import csv\n",
    "\n",
    "# Input and output CSV file paths\n",
    "input_csv = \"free_from_question_tweets_output.csv\"\n",
    "output_csv = \"filtered_tweets_40_words_or_less.csv\"\n",
    "\n",
    "# Maximum number of words allowed\n",
    "max_word_count = 40\n",
    "\n",
    "def tweet_word_count(text):\n",
    "    \"\"\"Return the number of words in the text.\"\"\"\n",
    "    # Ensure we have a string and split on whitespace\n",
    "    return len(str(text).split())\n",
    "\n",
    "filtered_rows = []\n",
    "\n",
    "# Read input CSV and filter rows\n",
    "with open(input_csv, newline='', encoding='utf-8') as infile:\n",
    "    reader = csv.DictReader(infile)\n",
    "    # Save original fieldnames to preserve attributes\n",
    "    fieldnames = reader.fieldnames\n",
    "\n",
    "    for row in reader:\n",
    "        tweet_text = row[\"cleaned_full_text\"]\n",
    "        # If tweet has max_word_count words or fewer, include it\n",
    "        if tweet_word_count(tweet_text) <= max_word_count:\n",
    "            filtered_rows.append(row)\n",
    "\n",
    "# Write the filtered rows to the output CSV file\n",
    "with open(output_csv, 'w', newline='', encoding='utf-8') as outfile:\n",
    "    writer = csv.DictWriter(outfile, fieldnames=fieldnames)\n",
    "    writer.writeheader()\n",
    "    writer.writerows(filtered_rows)\n",
    "\n",
    "print(f\"Filtering complete. {len(filtered_rows)} tweets (<= {max_word_count} words) saved to {output_csv}.\")\n"
   ]
  }
 ],
 "metadata": {
  "kernelspec": {
   "display_name": "venv",
   "language": "python",
   "name": "python3"
  },
  "language_info": {
   "codemirror_mode": {
    "name": "ipython",
    "version": 3
   },
   "file_extension": ".py",
   "mimetype": "text/x-python",
   "name": "python",
   "nbconvert_exporter": "python",
   "pygments_lexer": "ipython3",
   "version": "3.12.6"
  }
 },
 "nbformat": 4,
 "nbformat_minor": 5
}
