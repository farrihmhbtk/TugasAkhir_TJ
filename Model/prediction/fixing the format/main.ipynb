{
 "cells": [
  {
   "cell_type": "code",
   "execution_count": 8,
   "id": "d2ba3ba6",
   "metadata": {},
   "outputs": [
    {
     "name": "stdout",
     "output_type": "stream",
     "text": [
      "File processed. Corrected output saved to pred_seed_4 indobertweet (hypertuning parameter)_fixed.txt\n"
     ]
    }
   ],
   "source": [
    "import ast\n",
    "\n",
    "def expand_spans(triplet_str):\n",
    "    \"\"\"Convert compressed spans while preserving tuple structure\"\"\"\n",
    "    try:\n",
    "        triplets = ast.literal_eval(triplet_str) if triplet_str != '[]' else []\n",
    "        expanded_triplets = []\n",
    "        for triplet in triplets:\n",
    "            if len(triplet) == 3:\n",
    "                # Process aspect span (convert to list if needed)\n",
    "                aspect = triplet[0] if isinstance(triplet[0], list) else [triplet[0]]\n",
    "                if len(aspect) == 2:  # If compressed like [8,10]\n",
    "                    aspect = list(range(aspect[0], aspect[1] + 1))\n",
    "                \n",
    "                # Process opinion span\n",
    "                opinion = triplet[1] if isinstance(triplet[1], list) else [triplet[1]]\n",
    "                if len(opinion) == 2:\n",
    "                    opinion = list(range(opinion[0], opinion[1] + 1))\n",
    "                \n",
    "                # Maintain original tuple structure\n",
    "                expanded_triplets.append((aspect, opinion, triplet[2]))\n",
    "        return expanded_triplets\n",
    "    except:\n",
    "        return []\n",
    "\n",
    "def process_file(input_path, output_path):\n",
    "    with open(input_path, 'r', encoding='utf-8') as f_in, \\\n",
    "         open(output_path, 'w', encoding='utf-8') as f_out:\n",
    "        \n",
    "        for line in f_in:\n",
    "            if not line.strip():\n",
    "                continue\n",
    "                \n",
    "            parts = line.split('#### #### ####')\n",
    "            text = parts[0].strip()\n",
    "            labels_str = parts[1].strip() if len(parts) > 1 else '[]'\n",
    "            \n",
    "            expanded_triplets = expand_spans(labels_str)\n",
    "            \n",
    "            # Format output with proper spacing and parentheses\n",
    "            formatted_triplets = str(expanded_triplets)\\\n",
    "                .replace(\"(\", \"(\")\\\n",
    "                .replace(\")\", \")\")\\\n",
    "                .replace(\"], [\", \"], [\")\\\n",
    "                .replace(\"[[\", \"[(\")\\\n",
    "                .replace(\"]]\", \")]\")\\\n",
    "                .replace(\"), (\", \"), (\")\n",
    "            \n",
    "            f_out.write(f\"{text}#### #### ####{formatted_triplets}\\n\")\n",
    "\n",
    "# Usage\n",
    "input_file = 'pred_seed_4 indobertweet (hypertuning parameter).txt'\n",
    "output_file = 'pred_seed_4 indobertweet (hypertuning parameter)_fixed.txt'\n",
    "process_file(input_file, output_file)\n",
    "print(f\"File processed. Corrected output saved to {output_file}\")"
   ]
  },
  {
   "cell_type": "code",
   "execution_count": null,
   "id": "34db82c2",
   "metadata": {},
   "outputs": [],
   "source": []
  }
 ],
 "metadata": {
  "kernelspec": {
   "display_name": ".venv",
   "language": "python",
   "name": "python3"
  },
  "language_info": {
   "codemirror_mode": {
    "name": "ipython",
    "version": 3
   },
   "file_extension": ".py",
   "mimetype": "text/x-python",
   "name": "python",
   "nbconvert_exporter": "python",
   "pygments_lexer": "ipython3",
   "version": "3.7.9"
  }
 },
 "nbformat": 4,
 "nbformat_minor": 5
}
