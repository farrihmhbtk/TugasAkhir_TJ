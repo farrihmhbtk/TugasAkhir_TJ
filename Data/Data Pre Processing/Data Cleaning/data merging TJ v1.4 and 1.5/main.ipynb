{
 "cells": [
  {
   "cell_type": "code",
   "execution_count": 5,
   "id": "5364c35e",
   "metadata": {},
   "outputs": [
    {
     "name": "stdout",
     "output_type": "stream",
     "text": [
      "✅ Successfully merged 3568 + 4764 tasks into 8332 total tasks.\n",
      "✅ Merged file saved as TJ_v1.4_1.5_merged.json\n"
     ]
    }
   ],
   "source": [
    "import json\n",
    "\n",
    "# Nama file input dan output\n",
    "file_a = 'full_export_project TJ v1.4.json'\n",
    "file_b = 'full_export_project TJ v1.5.json'\n",
    "output_file = 'TJ_v1.4_1.5_merged.json'\n",
    "\n",
    "# Load kedua file JSON\n",
    "with open(file_a, 'r', encoding='utf-8') as f:\n",
    "    data_a = json.load(f)\n",
    "\n",
    "with open(file_b, 'r', encoding='utf-8') as f:\n",
    "    data_b = json.load(f)\n",
    "\n",
    "# Gabungkan kedua dataset (list of tasks)\n",
    "merged_data = data_a + data_b\n",
    "\n",
    "# Opsional: cek apakah ingin menghapus duplikat task berdasarkan \"data.full_text\"\n",
    "# Tapi untuk sekarang, langsung merge dulu\n",
    "\n",
    "# Save merged data\n",
    "with open(output_file, 'w', encoding='utf-8') as f:\n",
    "    json.dump(merged_data, f, ensure_ascii=False, indent=2)\n",
    "\n",
    "print(f\"✅ Successfully merged {len(data_a)} + {len(data_b)} tasks into {len(merged_data)} total tasks.\")\n",
    "print(f\"✅ Merged file saved as {output_file}\")"
   ]
  },
  {
   "cell_type": "code",
   "execution_count": 4,
   "id": "8a09e46f",
   "metadata": {},
   "outputs": [
    {
     "name": "stdout",
     "output_type": "stream",
     "text": [
      "✅ Successfully exported all tasks including unannotated ones!\n"
     ]
    }
   ],
   "source": [
    "import requests\n",
    "\n",
    "project_id = 18\n",
    "api_token = 'fe48b6517790115500a58d4d01d52802952af355'\n",
    "url = f'http://localhost:8080/api/projects/{project_id}/export?exportType=JSON&download_all_tasks=true'\n",
    "\n",
    "headers = {\n",
    "    'Authorization': f'Token {api_token}',\n",
    "}\n",
    "\n",
    "response = requests.get(url, headers=headers)\n",
    "\n",
    "if response.status_code == 200:\n",
    "    with open('full_export_project TJ v1.4.json', 'w', encoding='utf-8') as f:\n",
    "        f.write(response.text)\n",
    "    print(\"✅ Successfully exported all tasks including unannotated ones!\")\n",
    "else:\n",
    "    print(f\"❌ Export failed. Status code: {response.status_code}\")\n"
   ]
  }
 ],
 "metadata": {
  "kernelspec": {
   "display_name": "venv",
   "language": "python",
   "name": "python3"
  },
  "language_info": {
   "codemirror_mode": {
    "name": "ipython",
    "version": 3
   },
   "file_extension": ".py",
   "mimetype": "text/x-python",
   "name": "python",
   "nbconvert_exporter": "python",
   "pygments_lexer": "ipython3",
   "version": "3.12.6"
  }
 },
 "nbformat": 4,
 "nbformat_minor": 5
}
