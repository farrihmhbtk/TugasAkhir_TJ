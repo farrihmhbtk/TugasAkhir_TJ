{
 "cells": [
  {
   "cell_type": "markdown",
   "id": "e180a763",
   "metadata": {},
   "source": []
  },
  {
   "cell_type": "code",
   "execution_count": 1,
   "id": "2c522039",
   "metadata": {},
   "outputs": [
    {
     "name": "stdout",
     "output_type": "stream",
     "text": [
      "Done! The new file 'original_without_filtered.csv' has 4764 rows.\n"
     ]
    }
   ],
   "source": [
    "import pandas as pd\n",
    "\n",
    "# Load both CSV files\n",
    "filtered_df = pd.read_csv(\"filtered_tweets_40_words_or_less.csv\")\n",
    "original_df = pd.read_csv(\"Tugas Akhir_Dataset_Merged_Original - v1.0_data processing.csv\")\n",
    "\n",
    "# Normalize 'full_text' column (strip whitespace just in case)\n",
    "filtered_texts = filtered_df['full_text'].str.strip()\n",
    "original_df['full_text'] = original_df['full_text'].str.strip()\n",
    "\n",
    "# Filter out rows from original_df where full_text is already in filtered_df\n",
    "filtered_original_df = original_df[~original_df['full_text'].isin(filtered_texts)]\n",
    "\n",
    "# Save the result\n",
    "filtered_original_df.to_csv(\"original_without_filtered.csv\", index=False, encoding='utf-8-sig')\n",
    "\n",
    "print(f\"Done! The new file 'original_without_filtered.csv' has {len(filtered_original_df)} rows.\")\n"
   ]
  }
 ],
 "metadata": {
  "kernelspec": {
   "display_name": "venv",
   "language": "python",
   "name": "python3"
  },
  "language_info": {
   "codemirror_mode": {
    "name": "ipython",
    "version": 3
   },
   "file_extension": ".py",
   "mimetype": "text/x-python",
   "name": "python",
   "nbconvert_exporter": "python",
   "pygments_lexer": "ipython3",
   "version": "3.12.6"
  }
 },
 "nbformat": 4,
 "nbformat_minor": 5
}
