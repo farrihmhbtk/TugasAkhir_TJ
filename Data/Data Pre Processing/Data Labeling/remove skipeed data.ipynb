{
 "cells": [
  {
   "cell_type": "code",
   "execution_count": 1,
   "metadata": {},
   "outputs": [
    {
     "name": "stdout",
     "output_type": "stream",
     "text": [
      "Filtered file saved as: TJ - self_training/batch 5/filtered_output.txt\n"
     ]
    }
   ],
   "source": [
    "import re\n",
    "\n",
    "def filter_file(input_filename, output_filename):\n",
    "    # This regex matches lines that end with \"#### #### ####[]\" (allowing for optional whitespace inside the brackets)\n",
    "    pattern = re.compile(r\"####\\s*####\\s*####\\[\\s*\\]\\s*$\")\n",
    "    \n",
    "    with open(input_filename, 'r', encoding='utf-8') as infile:\n",
    "        lines = infile.readlines()\n",
    "    \n",
    "    with open(output_filename, 'w', encoding='utf-8') as outfile:\n",
    "        for line in lines:\n",
    "            # If the line does not match the pattern, write it to the output file\n",
    "            if not pattern.search(line):\n",
    "                outfile.write(line)\n",
    "\n",
    "if __name__ == '__main__':\n",
    "    # Change these filenames to match your file paths\n",
    "    input_file = \"TJ - self_training/batch 5/spanaste_format.txt\"  # your input file containing all the data\n",
    "    output_file = \"TJ - self_training/batch 5/filtered_output.txt\"  # the output file for filtered data\n",
    "    \n",
    "    filter_file(input_file, output_file)\n",
    "    print(\"Filtered file saved as:\", output_file)\n"
   ]
  }
 ],
 "metadata": {
  "kernelspec": {
   "display_name": "venv",
   "language": "python",
   "name": "python3"
  },
  "language_info": {
   "codemirror_mode": {
    "name": "ipython",
    "version": 3
   },
   "file_extension": ".py",
   "mimetype": "text/x-python",
   "name": "python",
   "nbconvert_exporter": "python",
   "pygments_lexer": "ipython3",
   "version": "3.12.6"
  }
 },
 "nbformat": 4,
 "nbformat_minor": 2
}
